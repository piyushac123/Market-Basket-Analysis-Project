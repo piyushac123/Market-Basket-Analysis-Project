{
  "nbformat": 4,
  "nbformat_minor": 0,
  "metadata": {
    "colab": {
      "name": "grocery-analysis.ipynb",
      "provenance": []
    },
    "kernelspec": {
      "name": "python3",
      "display_name": "Python 3"
    },
    "language_info": {
      "name": "python"
    }
  },
  "cells": [
    {
      "cell_type": "code",
      "metadata": {
        "id": "t311K1imBQBd"
      },
      "source": [
        "import numpy as np\n",
        "import pandas as pd"
      ],
      "execution_count": 77,
      "outputs": []
    },
    {
      "cell_type": "code",
      "metadata": {
        "id": "h9u0ZunJC-s7"
      },
      "source": [
        "data = pd.read_csv(\"Groceries_dataset.csv\")"
      ],
      "execution_count": 78,
      "outputs": []
    },
    {
      "cell_type": "code",
      "metadata": {
        "id": "dijzgo02DKKD",
        "outputId": "9e1f3377-d6d9-4d69-bef1-02cbbcf4e368",
        "colab": {
          "base_uri": "https://localhost:8080/"
        }
      },
      "source": [
        "data.shape"
      ],
      "execution_count": 79,
      "outputs": [
        {
          "output_type": "execute_result",
          "data": {
            "text/plain": [
              "(38765, 3)"
            ]
          },
          "metadata": {},
          "execution_count": 79
        }
      ]
    },
    {
      "cell_type": "code",
      "metadata": {
        "id": "drygvepJETWj",
        "outputId": "64395184-a2f5-4f9c-8942-e1ee44565d5a",
        "colab": {
          "base_uri": "https://localhost:8080/"
        }
      },
      "source": [
        "data.columns"
      ],
      "execution_count": 80,
      "outputs": [
        {
          "output_type": "execute_result",
          "data": {
            "text/plain": [
              "Index(['Member_number', 'Date', 'itemDescription'], dtype='object')"
            ]
          },
          "metadata": {},
          "execution_count": 80
        }
      ]
    },
    {
      "cell_type": "code",
      "metadata": {
        "id": "6Yxh0mEQDfWp",
        "outputId": "3318ade1-bd04-455b-da40-b9acffc4cf91",
        "colab": {
          "base_uri": "https://localhost:8080/",
          "height": 457
        }
      },
      "source": [
        "data[data.Member_number == 1000][:]"
      ],
      "execution_count": 81,
      "outputs": [
        {
          "output_type": "execute_result",
          "data": {
            "text/html": [
              "<div>\n",
              "<style scoped>\n",
              "    .dataframe tbody tr th:only-of-type {\n",
              "        vertical-align: middle;\n",
              "    }\n",
              "\n",
              "    .dataframe tbody tr th {\n",
              "        vertical-align: top;\n",
              "    }\n",
              "\n",
              "    .dataframe thead th {\n",
              "        text-align: right;\n",
              "    }\n",
              "</style>\n",
              "<table border=\"1\" class=\"dataframe\">\n",
              "  <thead>\n",
              "    <tr style=\"text-align: right;\">\n",
              "      <th></th>\n",
              "      <th>Member_number</th>\n",
              "      <th>Date</th>\n",
              "      <th>itemDescription</th>\n",
              "    </tr>\n",
              "  </thead>\n",
              "  <tbody>\n",
              "    <tr>\n",
              "      <th>1629</th>\n",
              "      <td>1000</td>\n",
              "      <td>27-05-2015</td>\n",
              "      <td>soda</td>\n",
              "    </tr>\n",
              "    <tr>\n",
              "      <th>2047</th>\n",
              "      <td>1000</td>\n",
              "      <td>24-07-2015</td>\n",
              "      <td>canned beer</td>\n",
              "    </tr>\n",
              "    <tr>\n",
              "      <th>4843</th>\n",
              "      <td>1000</td>\n",
              "      <td>15-03-2015</td>\n",
              "      <td>sausage</td>\n",
              "    </tr>\n",
              "    <tr>\n",
              "      <th>6388</th>\n",
              "      <td>1000</td>\n",
              "      <td>25-11-2015</td>\n",
              "      <td>sausage</td>\n",
              "    </tr>\n",
              "    <tr>\n",
              "      <th>8395</th>\n",
              "      <td>1000</td>\n",
              "      <td>15-03-2015</td>\n",
              "      <td>whole milk</td>\n",
              "    </tr>\n",
              "    <tr>\n",
              "      <th>13331</th>\n",
              "      <td>1000</td>\n",
              "      <td>24-06-2014</td>\n",
              "      <td>whole milk</td>\n",
              "    </tr>\n",
              "    <tr>\n",
              "      <th>17778</th>\n",
              "      <td>1000</td>\n",
              "      <td>27-05-2015</td>\n",
              "      <td>pickled vegetables</td>\n",
              "    </tr>\n",
              "    <tr>\n",
              "      <th>18196</th>\n",
              "      <td>1000</td>\n",
              "      <td>24-07-2015</td>\n",
              "      <td>misc. beverages</td>\n",
              "    </tr>\n",
              "    <tr>\n",
              "      <th>20992</th>\n",
              "      <td>1000</td>\n",
              "      <td>15-03-2015</td>\n",
              "      <td>semi-finished bread</td>\n",
              "    </tr>\n",
              "    <tr>\n",
              "      <th>22537</th>\n",
              "      <td>1000</td>\n",
              "      <td>25-11-2015</td>\n",
              "      <td>hygiene articles</td>\n",
              "    </tr>\n",
              "    <tr>\n",
              "      <th>24544</th>\n",
              "      <td>1000</td>\n",
              "      <td>15-03-2015</td>\n",
              "      <td>yogurt</td>\n",
              "    </tr>\n",
              "    <tr>\n",
              "      <th>29480</th>\n",
              "      <td>1000</td>\n",
              "      <td>24-06-2014</td>\n",
              "      <td>pastry</td>\n",
              "    </tr>\n",
              "    <tr>\n",
              "      <th>32851</th>\n",
              "      <td>1000</td>\n",
              "      <td>24-06-2014</td>\n",
              "      <td>salty snack</td>\n",
              "    </tr>\n",
              "  </tbody>\n",
              "</table>\n",
              "</div>"
            ],
            "text/plain": [
              "       Member_number        Date      itemDescription\n",
              "1629            1000  27-05-2015                 soda\n",
              "2047            1000  24-07-2015          canned beer\n",
              "4843            1000  15-03-2015              sausage\n",
              "6388            1000  25-11-2015              sausage\n",
              "8395            1000  15-03-2015           whole milk\n",
              "13331           1000  24-06-2014           whole milk\n",
              "17778           1000  27-05-2015   pickled vegetables\n",
              "18196           1000  24-07-2015      misc. beverages\n",
              "20992           1000  15-03-2015  semi-finished bread\n",
              "22537           1000  25-11-2015     hygiene articles\n",
              "24544           1000  15-03-2015               yogurt\n",
              "29480           1000  24-06-2014               pastry\n",
              "32851           1000  24-06-2014          salty snack"
            ]
          },
          "metadata": {},
          "execution_count": 81
        }
      ]
    },
    {
      "cell_type": "code",
      "metadata": {
        "id": "Uk9AZoMDDsAR",
        "outputId": "1e82f299-8eca-4b56-d631-78f95fd61256",
        "colab": {
          "base_uri": "https://localhost:8080/",
          "height": 282
        }
      },
      "source": [
        "# data['itemDescription'].value_counts()[:20].plot()\n",
        "data['itemDescription'].value_counts()[:15].plot(kind = 'barh')"
      ],
      "execution_count": 82,
      "outputs": [
        {
          "output_type": "execute_result",
          "data": {
            "text/plain": [
              "<matplotlib.axes._subplots.AxesSubplot at 0x7f4f5bc6a250>"
            ]
          },
          "metadata": {},
          "execution_count": 82
        },
        {
          "output_type": "display_data",
          "data": {
            "image/png": "[encoded data removed]",
            "text/plain": [
              "<Figure size 432x288 with 1 Axes>"
            ]
          },
          "metadata": {
            "needs_background": "light"
          }
        }
      ]
    },
    {
      "cell_type": "code",
      "metadata": {
        "id": "JiEhsuyCHtvR"
      },
      "source": [
        "data_new = data.groupby(['Member_number','Date']).size().reset_index().rename(columns={0:'count'})"
      ],
      "execution_count": 83,
      "outputs": []
    },
    {
      "cell_type": "code",
      "metadata": {
        "id": "GvlxPGlnJupi",
        "outputId": "a3d0bb5d-b5a0-4537-db1b-b493ab106929",
        "colab": {
          "base_uri": "https://localhost:8080/"
        }
      },
      "source": [
        "# Can use Split-Group-Combine\n",
        "data_new.shape"
      ],
      "execution_count": 84,
      "outputs": [
        {
          "output_type": "execute_result",
          "data": {
            "text/plain": [
              "(14963, 3)"
            ]
          },
          "metadata": {},
          "execution_count": 84
        }
      ]
    },
    {
      "cell_type": "code",
      "metadata": {
        "id": "4rfQ10nVJ3Jc",
        "outputId": "81654ffe-de7c-4821-f079-477d0722f905",
        "colab": {
          "base_uri": "https://localhost:8080/",
          "height": 424
        }
      },
      "source": [
        "data_new"
      ],
      "execution_count": 85,
      "outputs": [
        {
          "output_type": "execute_result",
          "data": {
            "text/html": [
              "<div>\n",
              "<style scoped>\n",
              "    .dataframe tbody tr th:only-of-type {\n",
              "        vertical-align: middle;\n",
              "    }\n",
              "\n",
              "    .dataframe tbody tr th {\n",
              "        vertical-align: top;\n",
              "    }\n",
              "\n",
              "    .dataframe thead th {\n",
              "        text-align: right;\n",
              "    }\n",
              "</style>\n",
              "<table border=\"1\" class=\"dataframe\">\n",
              "  <thead>\n",
              "    <tr style=\"text-align: right;\">\n",
              "      <th></th>\n",
              "      <th>Member_number</th>\n",
              "      <th>Date</th>\n",
              "      <th>count</th>\n",
              "    </tr>\n",
              "  </thead>\n",
              "  <tbody>\n",
              "    <tr>\n",
              "      <th>0</th>\n",
              "      <td>1000</td>\n",
              "      <td>15-03-2015</td>\n",
              "      <td>4</td>\n",
              "    </tr>\n",
              "    <tr>\n",
              "      <th>1</th>\n",
              "      <td>1000</td>\n",
              "      <td>24-06-2014</td>\n",
              "      <td>3</td>\n",
              "    </tr>\n",
              "    <tr>\n",
              "      <th>2</th>\n",
              "      <td>1000</td>\n",
              "      <td>24-07-2015</td>\n",
              "      <td>2</td>\n",
              "    </tr>\n",
              "    <tr>\n",
              "      <th>3</th>\n",
              "      <td>1000</td>\n",
              "      <td>25-11-2015</td>\n",
              "      <td>2</td>\n",
              "    </tr>\n",
              "    <tr>\n",
              "      <th>4</th>\n",
              "      <td>1000</td>\n",
              "      <td>27-05-2015</td>\n",
              "      <td>2</td>\n",
              "    </tr>\n",
              "    <tr>\n",
              "      <th>...</th>\n",
              "      <td>...</td>\n",
              "      <td>...</td>\n",
              "      <td>...</td>\n",
              "    </tr>\n",
              "    <tr>\n",
              "      <th>14958</th>\n",
              "      <td>4999</td>\n",
              "      <td>24-01-2015</td>\n",
              "      <td>6</td>\n",
              "    </tr>\n",
              "    <tr>\n",
              "      <th>14959</th>\n",
              "      <td>4999</td>\n",
              "      <td>26-12-2015</td>\n",
              "      <td>2</td>\n",
              "    </tr>\n",
              "    <tr>\n",
              "      <th>14960</th>\n",
              "      <td>5000</td>\n",
              "      <td>09-03-2014</td>\n",
              "      <td>2</td>\n",
              "    </tr>\n",
              "    <tr>\n",
              "      <th>14961</th>\n",
              "      <td>5000</td>\n",
              "      <td>10-02-2015</td>\n",
              "      <td>3</td>\n",
              "    </tr>\n",
              "    <tr>\n",
              "      <th>14962</th>\n",
              "      <td>5000</td>\n",
              "      <td>16-11-2014</td>\n",
              "      <td>2</td>\n",
              "    </tr>\n",
              "  </tbody>\n",
              "</table>\n",
              "<p>14963 rows × 3 columns</p>\n",
              "</div>"
            ],
            "text/plain": [
              "       Member_number        Date  count\n",
              "0               1000  15-03-2015      4\n",
              "1               1000  24-06-2014      3\n",
              "2               1000  24-07-2015      2\n",
              "3               1000  25-11-2015      2\n",
              "4               1000  27-05-2015      2\n",
              "...              ...         ...    ...\n",
              "14958           4999  24-01-2015      6\n",
              "14959           4999  26-12-2015      2\n",
              "14960           5000  09-03-2014      2\n",
              "14961           5000  10-02-2015      3\n",
              "14962           5000  16-11-2014      2\n",
              "\n",
              "[14963 rows x 3 columns]"
            ]
          },
          "metadata": {},
          "execution_count": 85
        }
      ]
    },
    {
      "cell_type": "code",
      "metadata": {
        "id": "MhjsDr_TbxZw"
      },
      "source": [
        "col = []\n",
        "for i in range(data_new.shape[0]):\n",
        "  col.append([])\n",
        "data_new[\"List\"] = col"
      ],
      "execution_count": 86,
      "outputs": []
    },
    {
      "cell_type": "code",
      "metadata": {
        "id": "U3rtmLa-cWIb",
        "outputId": "1277e117-9b9a-4787-b92e-cfcc172f6988",
        "colab": {
          "base_uri": "https://localhost:8080/",
          "height": 424
        }
      },
      "source": [
        "data_new"
      ],
      "execution_count": 87,
      "outputs": [
        {
          "output_type": "execute_result",
          "data": {
            "text/html": [
              "<div>\n",
              "<style scoped>\n",
              "    .dataframe tbody tr th:only-of-type {\n",
              "        vertical-align: middle;\n",
              "    }\n",
              "\n",
              "    .dataframe tbody tr th {\n",
              "        vertical-align: top;\n",
              "    }\n",
              "\n",
              "    .dataframe thead th {\n",
              "        text-align: right;\n",
              "    }\n",
              "</style>\n",
              "<table border=\"1\" class=\"dataframe\">\n",
              "  <thead>\n",
              "    <tr style=\"text-align: right;\">\n",
              "      <th></th>\n",
              "      <th>Member_number</th>\n",
              "      <th>Date</th>\n",
              "      <th>count</th>\n",
              "      <th>List</th>\n",
              "    </tr>\n",
              "  </thead>\n",
              "  <tbody>\n",
              "    <tr>\n",
              "      <th>0</th>\n",
              "      <td>1000</td>\n",
              "      <td>15-03-2015</td>\n",
              "      <td>4</td>\n",
              "      <td>[]</td>\n",
              "    </tr>\n",
              "    <tr>\n",
              "      <th>1</th>\n",
              "      <td>1000</td>\n",
              "      <td>24-06-2014</td>\n",
              "      <td>3</td>\n",
              "      <td>[]</td>\n",
              "    </tr>\n",
              "    <tr>\n",
              "      <th>2</th>\n",
              "      <td>1000</td>\n",
              "      <td>24-07-2015</td>\n",
              "      <td>2</td>\n",
              "      <td>[]</td>\n",
              "    </tr>\n",
              "    <tr>\n",
              "      <th>3</th>\n",
              "      <td>1000</td>\n",
              "      <td>25-11-2015</td>\n",
              "      <td>2</td>\n",
              "      <td>[]</td>\n",
              "    </tr>\n",
              "    <tr>\n",
              "      <th>4</th>\n",
              "      <td>1000</td>\n",
              "      <td>27-05-2015</td>\n",
              "      <td>2</td>\n",
              "      <td>[]</td>\n",
              "    </tr>\n",
              "    <tr>\n",
              "      <th>...</th>\n",
              "      <td>...</td>\n",
              "      <td>...</td>\n",
              "      <td>...</td>\n",
              "      <td>...</td>\n",
              "    </tr>\n",
              "    <tr>\n",
              "      <th>14958</th>\n",
              "      <td>4999</td>\n",
              "      <td>24-01-2015</td>\n",
              "      <td>6</td>\n",
              "      <td>[]</td>\n",
              "    </tr>\n",
              "    <tr>\n",
              "      <th>14959</th>\n",
              "      <td>4999</td>\n",
              "      <td>26-12-2015</td>\n",
              "      <td>2</td>\n",
              "      <td>[]</td>\n",
              "    </tr>\n",
              "    <tr>\n",
              "      <th>14960</th>\n",
              "      <td>5000</td>\n",
              "      <td>09-03-2014</td>\n",
              "      <td>2</td>\n",
              "      <td>[]</td>\n",
              "    </tr>\n",
              "    <tr>\n",
              "      <th>14961</th>\n",
              "      <td>5000</td>\n",
              "      <td>10-02-2015</td>\n",
              "      <td>3</td>\n",
              "      <td>[]</td>\n",
              "    </tr>\n",
              "    <tr>\n",
              "      <th>14962</th>\n",
              "      <td>5000</td>\n",
              "      <td>16-11-2014</td>\n",
              "      <td>2</td>\n",
              "      <td>[]</td>\n",
              "    </tr>\n",
              "  </tbody>\n",
              "</table>\n",
              "<p>14963 rows × 4 columns</p>\n",
              "</div>"
            ],
            "text/plain": [
              "       Member_number        Date  count List\n",
              "0               1000  15-03-2015      4   []\n",
              "1               1000  24-06-2014      3   []\n",
              "2               1000  24-07-2015      2   []\n",
              "3               1000  25-11-2015      2   []\n",
              "4               1000  27-05-2015      2   []\n",
              "...              ...         ...    ...  ...\n",
              "14958           4999  24-01-2015      6   []\n",
              "14959           4999  26-12-2015      2   []\n",
              "14960           5000  09-03-2014      2   []\n",
              "14961           5000  10-02-2015      3   []\n",
              "14962           5000  16-11-2014      2   []\n",
              "\n",
              "[14963 rows x 4 columns]"
            ]
          },
          "metadata": {},
          "execution_count": 87
        }
      ]
    },
    {
      "cell_type": "code",
      "metadata": {
        "id": "SSErvh-DSqYW"
      },
      "source": [
        "for i in range(data_new.shape[0]):\n",
        "  # print(data_new.iloc[i,0],\" \",data_new.iloc[i,1])\n",
        "  temp = data.loc[((data.Member_number == data_new.iloc[i,0]) & (data.Date == data_new.iloc[i,1])), ['itemDescription']]\n",
        "  list = []\n",
        "  for val in temp['itemDescription']:\n",
        "    list.append(val)\n",
        "  # print(list)\n",
        "  data_new[\"List\"][i].extend(list)"
      ],
      "execution_count": 88,
      "outputs": []
    },
    {
      "cell_type": "code",
      "metadata": {
        "id": "ow8Ig0SoXQkV",
        "outputId": "e6634bdf-2405-4c0f-9e79-c4dfb63edb0e",
        "colab": {
          "base_uri": "https://localhost:8080/",
          "height": 424
        }
      },
      "source": [
        "data_new"
      ],
      "execution_count": 89,
      "outputs": [
        {
          "output_type": "execute_result",
          "data": {
            "text/html": [
              "<div>\n",
              "<style scoped>\n",
              "    .dataframe tbody tr th:only-of-type {\n",
              "        vertical-align: middle;\n",
              "    }\n",
              "\n",
              "    .dataframe tbody tr th {\n",
              "        vertical-align: top;\n",
              "    }\n",
              "\n",
              "    .dataframe thead th {\n",
              "        text-align: right;\n",
              "    }\n",
              "</style>\n",
              "<table border=\"1\" class=\"dataframe\">\n",
              "  <thead>\n",
              "    <tr style=\"text-align: right;\">\n",
              "      <th></th>\n",
              "      <th>Member_number</th>\n",
              "      <th>Date</th>\n",
              "      <th>count</th>\n",
              "      <th>List</th>\n",
              "    </tr>\n",
              "  </thead>\n",
              "  <tbody>\n",
              "    <tr>\n",
              "      <th>0</th>\n",
              "      <td>1000</td>\n",
              "      <td>15-03-2015</td>\n",
              "      <td>4</td>\n",
              "      <td>[sausage, whole milk, semi-finished bread, yog...</td>\n",
              "    </tr>\n",
              "    <tr>\n",
              "      <th>1</th>\n",
              "      <td>1000</td>\n",
              "      <td>24-06-2014</td>\n",
              "      <td>3</td>\n",
              "      <td>[whole milk, pastry, salty snack]</td>\n",
              "    </tr>\n",
              "    <tr>\n",
              "      <th>2</th>\n",
              "      <td>1000</td>\n",
              "      <td>24-07-2015</td>\n",
              "      <td>2</td>\n",
              "      <td>[canned beer, misc. beverages]</td>\n",
              "    </tr>\n",
              "    <tr>\n",
              "      <th>3</th>\n",
              "      <td>1000</td>\n",
              "      <td>25-11-2015</td>\n",
              "      <td>2</td>\n",
              "      <td>[sausage, hygiene articles]</td>\n",
              "    </tr>\n",
              "    <tr>\n",
              "      <th>4</th>\n",
              "      <td>1000</td>\n",
              "      <td>27-05-2015</td>\n",
              "      <td>2</td>\n",
              "      <td>[soda, pickled vegetables]</td>\n",
              "    </tr>\n",
              "    <tr>\n",
              "      <th>...</th>\n",
              "      <td>...</td>\n",
              "      <td>...</td>\n",
              "      <td>...</td>\n",
              "      <td>...</td>\n",
              "    </tr>\n",
              "    <tr>\n",
              "      <th>14958</th>\n",
              "      <td>4999</td>\n",
              "      <td>24-01-2015</td>\n",
              "      <td>6</td>\n",
              "      <td>[tropical fruit, berries, other vegetables, yo...</td>\n",
              "    </tr>\n",
              "    <tr>\n",
              "      <th>14959</th>\n",
              "      <td>4999</td>\n",
              "      <td>26-12-2015</td>\n",
              "      <td>2</td>\n",
              "      <td>[bottled water, herbs]</td>\n",
              "    </tr>\n",
              "    <tr>\n",
              "      <th>14960</th>\n",
              "      <td>5000</td>\n",
              "      <td>09-03-2014</td>\n",
              "      <td>2</td>\n",
              "      <td>[fruit/vegetable juice, onions]</td>\n",
              "    </tr>\n",
              "    <tr>\n",
              "      <th>14961</th>\n",
              "      <td>5000</td>\n",
              "      <td>10-02-2015</td>\n",
              "      <td>3</td>\n",
              "      <td>[soda, root vegetables, semi-finished bread]</td>\n",
              "    </tr>\n",
              "    <tr>\n",
              "      <th>14962</th>\n",
              "      <td>5000</td>\n",
              "      <td>16-11-2014</td>\n",
              "      <td>2</td>\n",
              "      <td>[bottled beer, other vegetables]</td>\n",
              "    </tr>\n",
              "  </tbody>\n",
              "</table>\n",
              "<p>14963 rows × 4 columns</p>\n",
              "</div>"
            ],
            "text/plain": [
              "       Member_number  ...                                               List\n",
              "0               1000  ...  [sausage, whole milk, semi-finished bread, yog...\n",
              "1               1000  ...                  [whole milk, pastry, salty snack]\n",
              "2               1000  ...                     [canned beer, misc. beverages]\n",
              "3               1000  ...                        [sausage, hygiene articles]\n",
              "4               1000  ...                         [soda, pickled vegetables]\n",
              "...              ...  ...                                                ...\n",
              "14958           4999  ...  [tropical fruit, berries, other vegetables, yo...\n",
              "14959           4999  ...                             [bottled water, herbs]\n",
              "14960           5000  ...                    [fruit/vegetable juice, onions]\n",
              "14961           5000  ...       [soda, root vegetables, semi-finished bread]\n",
              "14962           5000  ...                   [bottled beer, other vegetables]\n",
              "\n",
              "[14963 rows x 4 columns]"
            ]
          },
          "metadata": {},
          "execution_count": 89
        }
      ]
    },
    {
      "cell_type": "code",
      "metadata": {
        "id": "OTHojynKc7xb"
      },
      "source": [
        ""
      ],
      "execution_count": null,
      "outputs": []
    }
  ]
}